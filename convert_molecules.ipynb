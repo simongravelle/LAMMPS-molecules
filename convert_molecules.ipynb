{
 "cells": [
  {
   "cell_type": "code",
   "execution_count": 1,
   "metadata": {},
   "outputs": [
    {
     "name": "stdout",
     "output_type": "stream",
     "text": [
      "molecule: nitrogen \t formula: N2\n",
      "molecule: methane \t formula: CH4\n",
      "molecule: carbondioxide \t formula: CO2\n",
      "molecule: decane \t formula: C10H22\n",
      "molecule: peg \t formula: C28H58O15\n",
      "molecule: luteolin \t formula: C15H10O6\n",
      "molecule: ethane \t formula: C2H6\n",
      "molecule: acetronitrice \t formula: C2H3N\n",
      "molecule: water \t formula: H2O\n",
      "molecule: ethanol \t formula: C2H5OH\n",
      "molecule: toluene \t formula: C7H8\n",
      "molecule: propane \t formula: C3H8\n"
     ]
    }
   ],
   "source": [
    "import sys, os, git, subprocess, shutil\n",
    "from utilities import rewrite_README\n",
    "# detect local path\n",
    "current_path = os.getcwd()\n",
    "git_repo = git.Repo(current_path, search_parent_directories=True)\n",
    "git_path = git_repo.git.rev_parse(\"--show-toplevel\")\n",
    "path_to_molecules = git_path + '/atb2lammps/molecules/'\n",
    "molecule_list = []\n",
    "for filename in os.listdir(path_to_molecules):\n",
    "    molecule_folder = os.path.join(path_to_molecules, filename)\n",
    "    if os.path.isdir(molecule_folder):\n",
    "        molecule = molecule_folder[len(path_to_molecules):]\n",
    "        molecule_name = molecule.split(\"_\")[0]\n",
    "        molecule_formula = molecule.split(\"_\")[1]\n",
    "        print(\"molecule:\", molecule_name, \"\\t\", \"formula:\", molecule_formula)\n",
    "        if os.path.exists(molecule) is False:\n",
    "            os.mkdir(molecule) \n",
    "        mol_file = \"atb2lammps/molecules/\" + molecule + \"/\" + molecule_name + \".mol\"\n",
    "        new_file = molecule + \"/GROMOS.mol\"\n",
    "        shutil.copyfile(mol_file, new_file)\n",
    "        parm_file = \"atb2lammps/molecules/\" + molecule + \"/parm.lammps\"\n",
    "        new_file = molecule + \"/GROMOS.parm\"\n",
    "        shutil.copyfile(parm_file, new_file)\n",
    "        molecule_list.append([molecule_name, molecule_formula])\n",
    "rewrite_README(molecule_list)"
   ]
  }
 ],
 "metadata": {
  "kernelspec": {
   "display_name": "Python 3",
   "language": "python",
   "name": "python3"
  },
  "language_info": {
   "codemirror_mode": {
    "name": "ipython",
    "version": 3
   },
   "file_extension": ".py",
   "mimetype": "text/x-python",
   "name": "python",
   "nbconvert_exporter": "python",
   "pygments_lexer": "ipython3",
   "version": "3.11.4"
  }
 },
 "nbformat": 4,
 "nbformat_minor": 2
}
